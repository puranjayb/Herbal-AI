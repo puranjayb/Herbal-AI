{
 "cells": [
  {
   "cell_type": "markdown",
   "metadata": {},
   "source": [
    "Finally NVIDIA CUDA chal gaya"
   ]
  },
  {
   "cell_type": "code",
   "execution_count": 1,
   "metadata": {},
   "outputs": [
    {
     "name": "stderr",
     "output_type": "stream",
     "text": [
      "2023-09-18 00:30:25.557240: I tensorflow/core/platform/cpu_feature_guard.cc:182] This TensorFlow binary is optimized to use available CPU instructions in performance-critical operations.\n",
      "To enable the following instructions: AVX2 FMA, in other operations, rebuild TensorFlow with the appropriate compiler flags.\n",
      "2023-09-18 00:30:26.567697: W tensorflow/compiler/tf2tensorrt/utils/py_utils.cc:38] TF-TRT Warning: Could not find TensorRT\n"
     ]
    }
   ],
   "source": [
    "import tensorflow as tf"
   ]
  },
  {
   "cell_type": "code",
   "execution_count": 2,
   "metadata": {},
   "outputs": [
    {
     "name": "stderr",
     "output_type": "stream",
     "text": [
      "2023-09-18 00:30:28.048458: I tensorflow/compiler/xla/stream_executor/cuda/cuda_gpu_executor.cc:981] could not open file to read NUMA node: /sys/bus/pci/devices/0000:01:00.0/numa_node\n",
      "Your kernel may have been built without NUMA support.\n",
      "2023-09-18 00:30:28.208311: I tensorflow/compiler/xla/stream_executor/cuda/cuda_gpu_executor.cc:981] could not open file to read NUMA node: /sys/bus/pci/devices/0000:01:00.0/numa_node\n",
      "Your kernel may have been built without NUMA support.\n",
      "2023-09-18 00:30:28.208367: I tensorflow/compiler/xla/stream_executor/cuda/cuda_gpu_executor.cc:981] could not open file to read NUMA node: /sys/bus/pci/devices/0000:01:00.0/numa_node\n",
      "Your kernel may have been built without NUMA support.\n"
     ]
    }
   ],
   "source": [
    "gpus = tf.config.experimental.list_physical_devices('GPU')\n",
    "for gpu in gpus:\n",
    "    tf.config.experimental.set_memory_growth(gpu, True)"
   ]
  },
  {
   "cell_type": "code",
   "execution_count": 3,
   "metadata": {},
   "outputs": [
    {
     "name": "stdout",
     "output_type": "stream",
     "text": [
      "/bin/bash: /home/puranjay/miniconda3/envs/tf/lib/libtinfo.so.6: no version information available (required by /bin/bash)\n",
      "Mon Sep 18 00:30:28 2023       \n",
      "+---------------------------------------------------------------------------------------+\n",
      "| NVIDIA-SMI 535.104.07             Driver Version: 537.34       CUDA Version: 12.2     |\n",
      "|-----------------------------------------+----------------------+----------------------+\n",
      "| GPU  Name                 Persistence-M | Bus-Id        Disp.A | Volatile Uncorr. ECC |\n",
      "| Fan  Temp   Perf          Pwr:Usage/Cap |         Memory-Usage | GPU-Util  Compute M. |\n",
      "|                                         |                      |               MIG M. |\n",
      "|=========================================+======================+======================|\n",
      "|   0  NVIDIA GeForce RTX 3060 ...    On  | 00000000:01:00.0 Off |                  N/A |\n",
      "| N/A   51C    P8              12W / 117W |     13MiB /  6144MiB |      0%      Default |\n",
      "|                                         |                      |                  N/A |\n",
      "+-----------------------------------------+----------------------+----------------------+\n",
      "                                                                                         \n",
      "+---------------------------------------------------------------------------------------+\n",
      "| Processes:                                                                            |\n",
      "|  GPU   GI   CI        PID   Type   Process name                            GPU Memory |\n",
      "|        ID   ID                                                             Usage      |\n",
      "|=======================================================================================|\n",
      "|    0   N/A  N/A        23      G   /Xwayland                                 N/A      |\n",
      "+---------------------------------------------------------------------------------------+\n"
     ]
    }
   ],
   "source": [
    "! nvidia-smi"
   ]
  },
  {
   "cell_type": "code",
   "execution_count": 4,
   "metadata": {},
   "outputs": [],
   "source": [
    "import os\n",
    "from tqdm import tqdm\n",
    "import numpy as np"
   ]
  },
  {
   "cell_type": "code",
   "execution_count": 5,
   "metadata": {},
   "outputs": [],
   "source": [
    "dataset_directory = 'Dataset/Plants/'"
   ]
  },
  {
   "cell_type": "code",
   "execution_count": 6,
   "metadata": {},
   "outputs": [],
   "source": [
    "image_class_name = [image_class for image_class in os.listdir(dataset_directory)]\n",
    "image_class_name_label = {image_class:index for index, image_class in enumerate(image_class_name)}\n",
    "total_class = len(image_class_name)\n",
    "IMAGE_SIZE = (224,224)"
   ]
  },
  {
   "cell_type": "code",
   "execution_count": 7,
   "metadata": {},
   "outputs": [
    {
     "data": {
      "text/plain": [
       "40"
      ]
     },
     "execution_count": 7,
     "metadata": {},
     "output_type": "execute_result"
    }
   ],
   "source": [
    "total_class"
   ]
  },
  {
   "cell_type": "code",
   "execution_count": 8,
   "metadata": {},
   "outputs": [],
   "source": [
    "import cv2"
   ]
  },
  {
   "cell_type": "code",
   "execution_count": 9,
   "metadata": {},
   "outputs": [],
   "source": [
    "def pre_process(img_path):\n",
    "    image = cv2.imread(img_path)\n",
    "    image = cv2.cvtColor(image, cv2.COLOR_BGR2RGB)\n",
    "    image = cv2.resize(image, IMAGE_SIZE) \n",
    "    return image"
   ]
  },
  {
   "cell_type": "code",
   "execution_count": 10,
   "metadata": {},
   "outputs": [],
   "source": [
    "def load_data():\n",
    "    images = []\n",
    "    labels = []   \n",
    "    print(\"Loading {}\".format(dataset_directory))\n",
    "\n",
    "    for folder in os.listdir(dataset_directory): # List out the classes Dataset/Plants/Class1 ...\n",
    "        label = image_class_name_label[folder]\n",
    "\n",
    "        for file in tqdm(os.listdir(os.path.join(dataset_directory, folder))): # List out every image in different lists according to class\n",
    "            img_path = os.path.join(os.path.join(dataset_directory, folder), file) # Make something like Dataset/Plants/Alovera/xyz.jpg\n",
    "            image = pre_process(img_path) \n",
    "            \n",
    "            images.append(image)\n",
    "            labels.append(label)\n",
    "                \n",
    "    images = np.array(images, dtype = 'float32')\n",
    "    labels = np.array(labels, dtype = 'int32')   \n",
    "        \n",
    "    \n",
    "    return images, labels"
   ]
  },
  {
   "cell_type": "code",
   "execution_count": 11,
   "metadata": {},
   "outputs": [
    {
     "name": "stdout",
     "output_type": "stream",
     "text": [
      "Loading Dataset/Plants/\n"
     ]
    },
    {
     "name": "stderr",
     "output_type": "stream",
     "text": [
      "100%|██████████| 164/164 [00:00<00:00, 376.03it/s]\n",
      "100%|██████████| 152/152 [00:00<00:00, 467.93it/s]\n",
      "100%|██████████| 146/146 [00:00<00:00, 399.36it/s]\n",
      "100%|██████████| 146/146 [00:00<00:00, 416.54it/s]\n",
      "100%|██████████| 146/146 [00:00<00:00, 349.03it/s]\n",
      "100%|██████████| 146/146 [00:00<00:00, 408.05it/s]\n",
      "100%|██████████| 146/146 [00:00<00:00, 416.50it/s]\n",
      "100%|██████████| 146/146 [00:00<00:00, 416.11it/s]\n",
      "100%|██████████| 146/146 [00:00<00:00, 362.78it/s]\n",
      "100%|██████████| 146/146 [00:00<00:00, 412.48it/s]\n",
      "100%|██████████| 146/146 [00:00<00:00, 413.00it/s]\n",
      "100%|██████████| 146/146 [00:00<00:00, 364.15it/s]\n",
      "100%|██████████| 150/150 [00:00<00:00, 405.90it/s]\n",
      "100%|██████████| 146/146 [00:00<00:00, 343.99it/s]\n",
      "100%|██████████| 187/187 [00:00<00:00, 409.19it/s]\n",
      "100%|██████████| 146/146 [00:00<00:00, 480.85it/s]\n",
      "100%|██████████| 146/146 [00:00<00:00, 471.95it/s]\n",
      "100%|██████████| 165/165 [00:00<00:00, 419.18it/s]\n",
      "100%|██████████| 151/151 [00:00<00:00, 417.96it/s]\n",
      "100%|██████████| 160/160 [00:00<00:00, 360.99it/s]\n",
      "100%|██████████| 146/146 [00:00<00:00, 498.88it/s]\n",
      "100%|██████████| 146/146 [00:00<00:00, 404.86it/s]\n",
      "100%|██████████| 153/153 [00:00<00:00, 411.13it/s]\n",
      "100%|██████████| 146/146 [00:00<00:00, 402.26it/s]\n",
      "100%|██████████| 146/146 [00:00<00:00, 412.00it/s]\n",
      "100%|██████████| 146/146 [00:00<00:00, 514.91it/s]\n",
      "100%|██████████| 146/146 [00:00<00:00, 485.50it/s]\n",
      "100%|██████████| 146/146 [00:00<00:00, 375.57it/s]\n",
      "100%|██████████| 115/115 [00:00<00:00, 492.98it/s]\n",
      "100%|██████████| 146/146 [00:00<00:00, 418.31it/s]\n",
      "100%|██████████| 146/146 [00:00<00:00, 466.57it/s]\n",
      "100%|██████████| 146/146 [00:00<00:00, 461.36it/s]\n",
      "100%|██████████| 146/146 [00:00<00:00, 399.02it/s]\n",
      "100%|██████████| 146/146 [00:00<00:00, 325.52it/s]\n",
      "100%|██████████| 146/146 [00:00<00:00, 457.80it/s]\n",
      "100%|██████████| 146/146 [00:00<00:00, 459.11it/s]\n",
      "100%|██████████| 146/146 [00:00<00:00, 377.10it/s]\n",
      "100%|██████████| 168/168 [00:00<00:00, 409.51it/s]\n",
      "100%|██████████| 146/146 [00:00<00:00, 429.04it/s]\n",
      "100%|██████████| 146/146 [00:00<00:00, 358.81it/s]\n"
     ]
    }
   ],
   "source": [
    "(train_images, train_labels) = load_data()"
   ]
  },
  {
   "cell_type": "code",
   "execution_count": 12,
   "metadata": {},
   "outputs": [],
   "source": [
    "from sklearn.utils import shuffle"
   ]
  },
  {
   "cell_type": "code",
   "execution_count": 13,
   "metadata": {},
   "outputs": [
    {
     "ename": "",
     "evalue": "",
     "output_type": "error",
     "traceback": [
      "\u001b[1;31mThe Kernel crashed while executing code in the the current cell or a previous cell. Please review the code in the cell(s) to identify a possible cause of the failure. Click <a href='https://aka.ms/vscodeJupyterKernelCrash'>here</a> for more info. View Jupyter <a href='command:jupyter.viewOutput'>log</a> for further details."
     ]
    }
   ],
   "source": [
    "train_images, train_labels = shuffle(train_images, train_labels, random_state=42)"
   ]
  },
  {
   "cell_type": "code",
   "execution_count": null,
   "metadata": {},
   "outputs": [],
   "source": []
  }
 ],
 "metadata": {
  "kernelspec": {
   "display_name": "tf",
   "language": "python",
   "name": "python3"
  },
  "language_info": {
   "codemirror_mode": {
    "name": "ipython",
    "version": 3
   },
   "file_extension": ".py",
   "mimetype": "text/x-python",
   "name": "python",
   "nbconvert_exporter": "python",
   "pygments_lexer": "ipython3",
   "version": "3.9.18"
  },
  "orig_nbformat": 4
 },
 "nbformat": 4,
 "nbformat_minor": 2
}
